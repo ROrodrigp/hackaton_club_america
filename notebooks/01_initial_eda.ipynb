{
 "cells": [
  {
   "cell_type": "markdown",
   "metadata": {},
   "source": [
    "# Club América - Player Recommendation System\n",
    "## Initial Exploratory Data Analysis\n",
    "\n",
    "This notebook explores the StatsBomb data for Liga MX (Apertura 2021 - Clausura 2025) to understand:\n",
    "- Available competitions and seasons\n",
    "- Teams and matches\n",
    "- Player data\n",
    "- Event data structure\n",
    "- 360 data availability"
   ]
  },
  {
   "cell_type": "code",
   "execution_count": null,
   "metadata": {},
   "outputs": [],
   "source": [
    "# Import libraries\n",
    "import pandas as pd\n",
    "import numpy as np\n",
    "import matplotlib.pyplot as plt\n",
    "import seaborn as sns\n",
    "from statsbombpy import sb\n",
    "import warnings\n",
    "warnings.filterwarnings('ignore')\n",
    "\n",
    "# Set display options\n",
    "pd.set_option('display.max_columns', None)\n",
    "pd.set_option('display.max_rows', 100)\n",
    "pd.set_option('display.width', None)\n",
    "\n",
    "# Set style\n",
    "sns.set_style('whitegrid')\n",
    "plt.rcParams['figure.figsize'] = (12, 6)"
   ]
  },
  {
   "cell_type": "markdown",
   "metadata": {},
   "source": [
    "## 1. Authentication\n",
    "Connect to StatsBomb API with provided credentials"
   ]
  },
  {
   "cell_type": "code",
   "execution_count": null,
   "metadata": {},
   "outputs": [],
   "source": [
    "# Authenticate with StatsBomb API\n",
    "# Credentials from credenciales.txt\n",
    "USERNAME = \"itam_hackathon@hudl.com\"\n",
    "PASSWORD = \"pGwIprel\"\n",
    "\n",
    "# Note: StatsBombPy doesn't require explicit login for basic access\n",
    "# Authentication is handled automatically when accessing premium data\n",
    "print(\"StatsBomb connection ready\")"
   ]
  },
  {
   "cell_type": "markdown",
   "metadata": {},
   "source": [
    "## 2. Explore Available Competitions\n",
    "Let's see what competitions are available, focusing on Liga MX"
   ]
  },
  {
   "cell_type": "code",
   "execution_count": null,
   "metadata": {},
   "outputs": [],
   "source": [
    "# Get all competitions\n",
    "competitions = sb.competitions()\n",
    "print(f\"Total competitions available: {len(competitions)}\")\n",
    "print(\"\\nFirst few competitions:\")\n",
    "competitions.head(10)"
   ]
  },
  {
   "cell_type": "code",
   "execution_count": null,
   "metadata": {},
   "outputs": [],
   "source": [
    "# Filter for Liga MX\n",
    "liga_mx = competitions[competitions['competition_name'].str.contains('Liga MX', case=False, na=False)]\n",
    "print(f\"Liga MX seasons available: {len(liga_mx)}\")\n",
    "liga_mx.sort_values('season_name')"
   ]
  },
  {
   "cell_type": "markdown",
   "metadata": {},
   "source": [
    "## 3. Explore Matches\n",
    "Get all matches for Liga MX seasons"
   ]
  },
  {
   "cell_type": "code",
   "execution_count": null,
   "metadata": {},
   "outputs": [],
   "source": [
    "# Get matches for each Liga MX season\n",
    "all_matches = []\n",
    "\n",
    "for idx, row in liga_mx.iterrows():\n",
    "    comp_id = row['competition_id']\n",
    "    season_id = row['season_id']\n",
    "    season_name = row['season_name']\n",
    "    \n",
    "    print(f\"Fetching matches for {season_name}...\")\n",
    "    try:\n",
    "        matches = sb.matches(competition_id=comp_id, season_id=season_id)\n",
    "        matches['season_name'] = season_name\n",
    "        all_matches.append(matches)\n",
    "        print(f\"  Found {len(matches)} matches\")\n",
    "    except Exception as e:\n",
    "        print(f\"  Error: {e}\")\n",
    "\n",
    "# Combine all matches\n",
    "if all_matches:\n",
    "    df_matches = pd.concat(all_matches, ignore_index=True)\n",
    "    print(f\"\\nTotal matches: {len(df_matches)}\")\n",
    "else:\n",
    "    print(\"No matches found\")"
   ]
  },
  {
   "cell_type": "code",
   "execution_count": null,
   "metadata": {},
   "outputs": [],
   "source": [
    "# Explore matches data structure\n",
    "print(\"Matches columns:\")\n",
    "print(df_matches.columns.tolist())\n",
    "print(\"\\nSample matches:\")\n",
    "df_matches[['season_name', 'match_date', 'home_team', 'away_team', 'home_score', 'away_score']].head(10)"
   ]
  },
  {
   "cell_type": "markdown",
   "metadata": {},
   "source": [
    "## 4. Focus on Club América\n",
    "Filter and analyze Club América's matches"
   ]
  },
  {
   "cell_type": "code",
   "execution_count": null,
   "metadata": {},
   "outputs": [],
   "source": [
    "# Find Club América matches\n",
    "america_matches = df_matches[\n",
    "    (df_matches['home_team'].str.contains('América', case=False, na=False)) | \n",
    "    (df_matches['away_team'].str.contains('América', case=False, na=False))\n",
    "]\n",
    "\n",
    "print(f\"Club América matches: {len(america_matches)}\")\n",
    "print(f\"\\nMatches by season:\")\n",
    "print(america_matches['season_name'].value_counts().sort_index())\n",
    "\n",
    "# Show sample matches\n",
    "print(\"\\nSample Club América matches:\")\n",
    "america_matches[['season_name', 'match_date', 'home_team', 'away_team', 'home_score', 'away_score']].head(10)"
   ]
  },
  {
   "cell_type": "code",
   "execution_count": null,
   "metadata": {},
   "outputs": [],
   "source": [
    "# Club América performance\n",
    "def get_team_result(row, team_name='América'):\n",
    "    \"\"\"Determine if team won, drew, or lost\"\"\"\n",
    "    if team_name.lower() in row['home_team'].lower():\n",
    "        if row['home_score'] > row['away_score']:\n",
    "            return 'Win'\n",
    "        elif row['home_score'] < row['away_score']:\n",
    "            return 'Loss'\n",
    "        else:\n",
    "            return 'Draw'\n",
    "    else:\n",
    "        if row['away_score'] > row['home_score']:\n",
    "            return 'Win'\n",
    "        elif row['away_score'] < row['home_score']:\n",
    "            return 'Loss'\n",
    "        else:\n",
    "            return 'Draw'\n",
    "\n",
    "america_matches['result'] = america_matches.apply(get_team_result, axis=1)\n",
    "print(\"\\nClub América results:\")\n",
    "print(america_matches['result'].value_counts())\n",
    "print(f\"\\nWin rate: {(america_matches['result'] == 'Win').sum() / len(america_matches) * 100:.1f}%\")"
   ]
  },
  {
   "cell_type": "markdown",
   "metadata": {},
   "source": [
    "## 5. Sample Event Data\n",
    "Explore event data structure from a sample match"
   ]
  },
  {
   "cell_type": "code",
   "execution_count": null,
   "metadata": {},
   "outputs": [],
   "source": [
    "# Get event data for a sample Club América match\n",
    "sample_match_id = america_matches.iloc[0]['match_id']\n",
    "print(f\"Loading events for match ID: {sample_match_id}\")\n",
    "print(f\"Match: {america_matches.iloc[0]['home_team']} vs {america_matches.iloc[0]['away_team']}\")\n",
    "\n",
    "try:\n",
    "    events = sb.events(match_id=sample_match_id)\n",
    "    print(f\"\\nTotal events: {len(events)}\")\n",
    "    print(f\"\\nEvent columns ({len(events.columns)}):\")\n",
    "    print(events.columns.tolist())\n",
    "except Exception as e:\n",
    "    print(f\"Error loading events: {e}\")"
   ]
  },
  {
   "cell_type": "code",
   "execution_count": null,
   "metadata": {},
   "outputs": [],
   "source": [
    "# Explore event types\n",
    "if 'events' in locals():\n",
    "    print(\"Event types:\")\n",
    "    print(events['type'].value_counts())\n",
    "    \n",
    "    print(\"\\nSample events:\")\n",
    "    display(events[['minute', 'second', 'type', 'team', 'player', 'position']].head(20))"
   ]
  },
  {
   "cell_type": "markdown",
   "metadata": {},
   "source": [
    "## 6. Check for 360 Data\n",
    "Explore if 360 freeze frame data is available"
   ]
  },
  {
   "cell_type": "code",
   "execution_count": null,
   "metadata": {},
   "outputs": [],
   "source": [
    "# Check for 360 data columns\n",
    "if 'events' in locals():\n",
    "    print(\"Checking for 360 data...\")\n",
    "    \n",
    "    # Look for freeze frame or 360 related columns\n",
    "    cols_360 = [col for col in events.columns if '360' in col.lower() or 'freeze' in col.lower()]\n",
    "    print(f\"\\n360-related columns: {cols_360}\")\n",
    "    \n",
    "    # Check if any events have 360 data\n",
    "    if cols_360:\n",
    "        for col in cols_360:\n",
    "            non_null = events[col].notna().sum()\n",
    "            print(f\"  {col}: {non_null} events with data ({non_null/len(events)*100:.1f}%)\")"
   ]
  },
  {
   "cell_type": "markdown",
   "metadata": {},
   "source": [
    "## 7. Player Statistics Overview\n",
    "Analyze players involved in the data"
   ]
  },
  {
   "cell_type": "code",
   "execution_count": null,
   "metadata": {},
   "outputs": [],
   "source": [
    "# Get unique players from events\n",
    "if 'events' in locals():\n",
    "    players = events[events['player'].notna()][['player', 'team', 'position']].drop_duplicates()\n",
    "    print(f\"Unique players in sample match: {len(players)}\")\n",
    "    print(\"\\nPlayers by team:\")\n",
    "    print(players['team'].value_counts())\n",
    "    \n",
    "    print(\"\\nPlayers by position:\")\n",
    "    print(players['position'].value_counts())"
   ]
  },
  {
   "cell_type": "markdown",
   "metadata": {},
   "source": [
    "## 8. Summary Statistics\n",
    "Key insights from initial exploration"
   ]
  },
  {
   "cell_type": "code",
   "execution_count": null,
   "metadata": {},
   "outputs": [],
   "source": [
    "print(\"=\" * 60)\n",
    "print(\"INITIAL EDA SUMMARY\")\n",
    "print(\"=\" * 60)\n",
    "print(f\"\\n1. DATA AVAILABILITY\")\n",
    "print(f\"   - Liga MX seasons: {len(liga_mx)}\")\n",
    "print(f\"   - Total matches: {len(df_matches)}\")\n",
    "print(f\"   - Club América matches: {len(america_matches)}\")\n",
    "\n",
    "print(f\"\\n2. CLUB AMÉRICA PERFORMANCE\")\n",
    "print(f\"   - Wins: {(america_matches['result'] == 'Win').sum()}\")\n",
    "print(f\"   - Draws: {(america_matches['result'] == 'Draw').sum()}\")\n",
    "print(f\"   - Losses: {(america_matches['result'] == 'Loss').sum()}\")\n",
    "print(f\"   - Win rate: {(america_matches['result'] == 'Win').sum() / len(america_matches) * 100:.1f}%\")\n",
    "\n",
    "if 'events' in locals():\n",
    "    print(f\"\\n3. EVENT DATA (Sample Match)\")\n",
    "    print(f\"   - Total events: {len(events)}\")\n",
    "    print(f\"   - Event types: {events['type'].nunique()}\")\n",
    "    print(f\"   - Players involved: {len(players)}\")\n",
    "\n",
    "print(\"\\n\" + \"=\" * 60)"
   ]
  },
  {
   "cell_type": "markdown",
   "metadata": {},
   "source": [
    "## Next Steps\n",
    "\n",
    "1. **Deep dive into Club América's tactical profile**\n",
    "   - Analyze passing patterns\n",
    "   - Defensive actions and positioning\n",
    "   - Attacking style and player movements\n",
    "\n",
    "2. **Player-level analysis**\n",
    "   - Extract player statistics across all matches\n",
    "   - Identify key performance indicators\n",
    "   - Analyze player roles and positions\n",
    "\n",
    "3. **Event data deep dive**\n",
    "   - Shot analysis (xG)\n",
    "   - Passing networks\n",
    "   - Defensive actions\n",
    "   - Set pieces (corners, free kicks)\n",
    "\n",
    "4. **Framework design**\n",
    "   - Define metrics for player fit\n",
    "   - Build comparison framework\n",
    "   - Develop recommendation system"
   ]
  }
 ],
 "metadata": {
  "kernelspec": {
   "display_name": "Python 3",
   "language": "python",
   "name": "python3"
  },
  "language_info": {
   "codemirror_mode": {
    "name": "ipython",
    "version": 3
   },
   "file_extension": ".py",
   "mimetype": "text/x-python",
   "name": "python",
   "nbconvert_exporter": "python",
   "pygments_lexer": "ipython3",
   "version": "3.12.0"
  }
 },
 "nbformat": 4,
 "nbformat_minor": 4
}
